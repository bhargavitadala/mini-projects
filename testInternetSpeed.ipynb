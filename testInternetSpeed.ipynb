{
  "nbformat": 4,
  "nbformat_minor": 0,
  "metadata": {
    "colab": {
      "provenance": [],
      "name": "testInternetSpeed.ipynb",
      "authorship_tag": "ABX9TyM5ujN1uGj62K1tB3tU5XN+",
      "include_colab_link": true
    },
    "kernelspec": {
      "name": "python3",
      "display_name": "Python 3"
    },
    "language_info": {
      "name": "python"
    }
  },
  "cells": [
    {
      "cell_type": "markdown",
      "metadata": {
        "id": "view-in-github",
        "colab_type": "text"
      },
      "source": [
        "<a href=\"https://colab.research.google.com/github/bhargavitadala/mini-projects/blob/main/testInternetSpeed.ipynb\" target=\"_parent\"><img src=\"https://colab.research.google.com/assets/colab-badge.svg\" alt=\"Open In Colab\"/></a>"
      ]
    },
    {
      "cell_type": "markdown",
      "source": [
        "Installing requirements to run the program"
      ],
      "metadata": {
        "id": "pcybuWujI2YC"
      }
    },
    {
      "cell_type": "code",
      "execution_count": null,
      "metadata": {
        "colab": {
          "base_uri": "https://localhost:8080/"
        },
        "id": "5pOtONTyGtKn",
        "outputId": "2e1cbe7a-6b95-4908-bd0c-fc0fc40ecd44"
      },
      "outputs": [
        {
          "output_type": "stream",
          "name": "stdout",
          "text": [
            "Looking in indexes: https://pypi.org/simple, https://us-python.pkg.dev/colab-wheels/public/simple/\n",
            "Collecting speedtest-cli\n",
            "  Downloading speedtest_cli-2.1.3-py2.py3-none-any.whl (23 kB)\n",
            "Installing collected packages: speedtest-cli\n",
            "Successfully installed speedtest-cli-2.1.3\n"
          ]
        }
      ],
      "source": [
        "pip install speedtest-cli  "
      ]
    },
    {
      "cell_type": "markdown",
      "source": [
        "Python program to test internet speed of system"
      ],
      "metadata": {
        "id": "K2NElLtPJJd2"
      }
    },
    {
      "cell_type": "code",
      "source": [
        "'''\n",
        "Python Program to Test internet speed\n",
        "'''\n",
        "\n",
        "# Import the necessary module!\n",
        "import speedtest\n",
        "\n",
        "# Create an instance of Speedtest and call it st\n",
        "st = speedtest.Speedtest() \n",
        "\n",
        "# Fetch the download speed\n",
        "# Use of download method to fetch the speed and store in d_st\n",
        "download = st.download()\n",
        "\n",
        "# Fetch the upload speed \n",
        "# Use of upload method to fetch the speed and store in u_st\n",
        "upload = st.upload()\n",
        "\n",
        "# Converting into Mbps\n",
        "download = download/1000000\n",
        "upload = upload/1000000\n",
        "\n",
        "# Display the result\n",
        "print(\"Your ⏬ Download speed is\", round(download, 3), 'Mbps')\n",
        "print(\"Your ⏫ Upload speed is\", round(upload, 3), 'Mbps')\n",
        "\n",
        "# Fetch the ping\n",
        "st.get_servers([])\n",
        "\n",
        "ping = st.results.ping\n",
        "\n",
        "# Display the result\n",
        "print(\"Your Ping is\", ping)\n"
      ],
      "metadata": {
        "colab": {
          "base_uri": "https://localhost:8080/"
        },
        "id": "dfTohhDDIJB8",
        "outputId": "5cb99356-9aaa-4a5f-f7b6-cbbbbb5f15ea"
      },
      "execution_count": null,
      "outputs": [
        {
          "output_type": "stream",
          "name": "stdout",
          "text": [
            "Your ⏬ Download speed is 2465.831 Mbps\n",
            "Your ⏫ Upload speed is 845.998 Mbps\n",
            "Your Ping is 6.506\n"
          ]
        }
      ]
    },
    {
      "cell_type": "markdown",
      "source": [
        "\n",
        "Python Program to Find IP Address of website\n"
      ],
      "metadata": {
        "id": "gquuQa1KJbbH"
      }
    },
    {
      "cell_type": "code",
      "source": [
        "\n",
        "\n",
        "# importing socket library\n",
        "import socket\n",
        "\n",
        "def get_hostname_IP():\n",
        "    hostname = input(\"Please enter website address(URL):\")\n",
        "    try:\n",
        "        print (f'Hostname: {hostname}')\n",
        "        print (f'IP: {socket.gethostbyname(hostname)}')\n",
        "    except socket.gaierror as error:\n",
        "        print (f'Invalid Hostname, error raised is {error}')\n",
        "\n",
        "get_hostname_IP()\n"
      ],
      "metadata": {
        "colab": {
          "base_uri": "https://localhost:8080/"
        },
        "id": "E_21FZNHIeMP",
        "outputId": "45e32fb9-53d0-4fec-9e72-6a8e469d6722"
      },
      "execution_count": null,
      "outputs": [
        {
          "output_type": "stream",
          "name": "stdout",
          "text": [
            "Please enter website address(URL):www.google.com\n",
            "Hostname: www.google.com\n",
            "IP: 108.177.125.103\n"
          ]
        }
      ]
    }
  ]
}